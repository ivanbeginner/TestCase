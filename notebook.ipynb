{
 "cells": [
  {
   "cell_type": "code",
   "execution_count": 10,
   "id": "fcbe1258",
   "metadata": {},
   "outputs": [],
   "source": [
    "from pyspark.sql import SparkSession\n",
    "from pyspark.sql import functions as F\n",
    "import sys\n",
    "import os\n",
    "os.environ['PYSPARK_PYTHON'] = sys.executable\n",
    "os.environ['PYSPARK_DRIVER_PYTHON'] = sys.executable\n",
    "os.environ['JAVA_HOME'] = 'C:\\Program Files\\Eclipse Adoptium\\jdk-17.0.16.8-hotspot'\n",
    "os.environ['PATH'] = os.environ['JAVA_HOME'] + r'\\bin' + os.environ['PATH']\n",
    "spark = SparkSession.builder.appName(\"ProductsAndCategories\").getOrCreate()"
   ]
  },
  {
   "cell_type": "code",
   "execution_count": 11,
   "id": "0646190a",
   "metadata": {},
   "outputs": [],
   "source": [
    "products_data = [(1, \"Ноутбук\"), (2, \"Мышь\"), (3, \"Клавиатура\"),\n",
    "                     (4, \"Наушники\"), (5, \"Флешка\"), (6, \"Книга\"),(7,'Ручка')]\n",
    "products_df = spark.createDataFrame(products_data, [\"product_id\", \"product_name\"])\n",
    "\n",
    "categories_data = [(1, \"Электроника\"), (2, \"Компьютерная техника\"),\n",
    "                       (3, \"Периферия\"), (4, \"Аксессуары\"),(5,'Недвижимость')]\n",
    "\n",
    "categories_df = spark.createDataFrame(categories_data, [\"category_id\", \"category_name\"])\n",
    "\n",
    "relations_data = [(1, 1), (1, 2), (2, 3), (2, 4),\n",
    "                    (3, 3), (4, 1), (4, 4), (5, 4)]\n",
    "\n",
    "relations_df = spark.createDataFrame(relations_data, [\"product_id\", \"category_id\"])\n"
   ]
  },
  {
   "cell_type": "code",
   "execution_count": 12,
   "id": "4ac9f7d4",
   "metadata": {},
   "outputs": [],
   "source": [
    "def get_products_and_categories(products_df,categories_df,relations_df):\n",
    "    product_and_categories = (relations_df.join(products_df,'product_id','full').join(categories_df,'category_id','left').select('product_name','category_name'))\n",
    "    return product_and_categories\n",
    "\n",
    "\n",
    "result_df = get_products_and_categories(products_df,categories_df,relations_df)"
   ]
  },
  {
   "cell_type": "code",
   "execution_count": 13,
   "id": "64746644",
   "metadata": {},
   "outputs": [
    {
     "name": "stdout",
     "output_type": "stream",
     "text": [
      "Продукты:\n",
      "+----------+------------+\n",
      "|product_id|product_name|\n",
      "+----------+------------+\n",
      "|         1|     Ноутбук|\n",
      "|         2|        Мышь|\n",
      "|         3|  Клавиатура|\n",
      "|         4|    Наушники|\n",
      "|         5|      Флешка|\n",
      "|         6|       Книга|\n",
      "|         7|       Ручка|\n",
      "+----------+------------+\n",
      "\n"
     ]
    }
   ],
   "source": [
    "print(\"Продукты:\")\n",
    "products_df.show()\n",
    "\n"
   ]
  },
  {
   "cell_type": "code",
   "execution_count": 14,
   "id": "126e4cd3",
   "metadata": {},
   "outputs": [
    {
     "name": "stdout",
     "output_type": "stream",
     "text": [
      "\n",
      "Категории:\n",
      "+-----------+--------------------+\n",
      "|category_id|       category_name|\n",
      "+-----------+--------------------+\n",
      "|          1|         Электроника|\n",
      "|          2|Компьютерная техника|\n",
      "|          3|           Периферия|\n",
      "|          4|          Аксессуары|\n",
      "|          5|        Недвижимость|\n",
      "+-----------+--------------------+\n",
      "\n"
     ]
    }
   ],
   "source": [
    "\n",
    "print(\"\\nКатегории:\")\n",
    "categories_df.show()\n",
    "\n"
   ]
  },
  {
   "cell_type": "code",
   "execution_count": 15,
   "id": "bc26f9cb",
   "metadata": {},
   "outputs": [
    {
     "name": "stdout",
     "output_type": "stream",
     "text": [
      "\n",
      "Связи:\n",
      "+----------+-----------+\n",
      "|product_id|category_id|\n",
      "+----------+-----------+\n",
      "|         1|          1|\n",
      "|         1|          2|\n",
      "|         2|          3|\n",
      "|         2|          4|\n",
      "|         3|          3|\n",
      "|         4|          1|\n",
      "|         4|          4|\n",
      "|         5|          4|\n",
      "+----------+-----------+\n",
      "\n"
     ]
    }
   ],
   "source": [
    "print(\"\\nСвязи:\")\n",
    "relations_df.show()\n",
    "\n"
   ]
  },
  {
   "cell_type": "code",
   "execution_count": 16,
   "id": "bedc21bf",
   "metadata": {},
   "outputs": [
    {
     "name": "stdout",
     "output_type": "stream",
     "text": [
      "\n",
      "Результат:\n",
      "+------------+--------------------+\n",
      "|product_name|       category_name|\n",
      "+------------+--------------------+\n",
      "|       Книга|                NULL|\n",
      "|       Ручка|                NULL|\n",
      "|     Ноутбук|         Электроника|\n",
      "|    Наушники|         Электроника|\n",
      "|        Мышь|           Периферия|\n",
      "|  Клавиатура|           Периферия|\n",
      "|     Ноутбук|Компьютерная техника|\n",
      "|        Мышь|          Аксессуары|\n",
      "|    Наушники|          Аксессуары|\n",
      "|      Флешка|          Аксессуары|\n",
      "+------------+--------------------+\n",
      "\n"
     ]
    }
   ],
   "source": [
    "print(\"\\nРезультат:\")\n",
    "result_df.show()\n",
    "\n",
    "\n",
    "spark.stop()"
   ]
  }
 ],
 "metadata": {
  "kernelspec": {
   "display_name": "Python 3",
   "language": "python",
   "name": "python3"
  },
  "language_info": {
   "codemirror_mode": {
    "name": "ipython",
    "version": 3
   },
   "file_extension": ".py",
   "mimetype": "text/x-python",
   "name": "python",
   "nbconvert_exporter": "python",
   "pygments_lexer": "ipython3",
   "version": "3.11.9"
  }
 },
 "nbformat": 4,
 "nbformat_minor": 5
}
